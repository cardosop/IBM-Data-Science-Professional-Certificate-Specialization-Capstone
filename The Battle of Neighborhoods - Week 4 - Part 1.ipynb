{
    "nbformat_minor": 1, 
    "cells": [
        {
            "source": "# The Battle of Neighborhoods - Week 4 - Part 1", 
            "cell_type": "markdown", 
            "metadata": {
                "collapsed": true
            }
        }, 
        {
            "source": "## Introduction", 
            "cell_type": "markdown", 
            "metadata": {}
        }, 
        {
            "source": "The work is a capstone project for the Coursera course IBM Data Science Professional Certificate Specialization. The objective of this first part is to present a description of the problem and also point out with data will be used on the development of de project.\n\n### Description\nGroup each neighborhood and present top 10 venues corresponding to that neighborhood in Sao Paulo, SP - Brazil.\n\n### Problem Statement\n- It's possible replicate parts of the analysis perfomed during the course with S\u00e3o Paulo Data?\n- How can performed a grouping the neighborhoods and find out top 10 venues corresponding to that neighborhood in Sao Paulo, SP - Brazil?\n\n### Target Audience\n- Payment industry, this segment could take advantage of an analysis like to that to better position their self on the market, knowing where their product could have a better acceptance.\n- Investors thinking on open a new business in town, this kind of person could benefit from this analysis to rule out segment of business in tow due saturation of the kind of business on the neighborhood\n\n### Success Criteria\nThe success criteria of the project will be a good presentation of which are the top 10 kind of venue by neighborhood and some recommendation regarding which are the worst business segments to be opened on some neighborhoods.", 
            "cell_type": "markdown", 
            "metadata": {}
        }
    ], 
    "metadata": {
        "kernelspec": {
            "display_name": "Python 3.5", 
            "name": "python3", 
            "language": "python"
        }, 
        "language_info": {
            "mimetype": "text/x-python", 
            "nbconvert_exporter": "python", 
            "version": "3.5.5", 
            "name": "python", 
            "pygments_lexer": "ipython3", 
            "file_extension": ".py", 
            "codemirror_mode": {
                "version": 3, 
                "name": "ipython"
            }
        }
    }, 
    "nbformat": 4
}