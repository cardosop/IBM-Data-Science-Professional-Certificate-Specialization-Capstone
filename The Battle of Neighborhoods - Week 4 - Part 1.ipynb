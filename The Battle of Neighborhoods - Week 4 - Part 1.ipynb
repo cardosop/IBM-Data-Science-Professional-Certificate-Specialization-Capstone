{
    "nbformat_minor": 1, 
    "cells": [
        {
            "source": "# The Battle of Neighborhoods - Week 4 - Part 1\n\n\n\n## Exploring S\u00e3o Paulo Neighbourhoods Venues\n### Paulo Cardoso\n#### 2019/06/15\n\n\n### 1 Introduction\nThe work is a capstone project for the Coursera course IBM Data Science Professional Certificate Specialization. The objective of this first part is to present a description of the problem and also point out with data will be used on the development of de project.\n#### 1.1 Problem Statement\n    \u2022 It's possible replicate parts of the analysis perfomed during the course with S\u00e3o Paulo Data?\n    \u2022 How can performed a grouping the neighborhoods and find out top 10 venues corresponding to that neighborhood in Sao Paulo, SP - Brazil?\n#### 1.2 Problem Description\nGrouped by neighborhood exploreing the venues around creating a top 10 venues by neighborhood in S\u00e3o Paulo. This kind of analysis can lead to possibility of identification of new opportunities for businesses, identification of the saturation of business segments in the neighborhood and also possibility to better understand the citie with its carachteristics based on distribution of the venues.\n#### 1.3 Target Audience\n    \u2022 Payment industry, this segment could take advantage of an analysis like to that to better position their self on the market, knowing where their product could have a better acceptance.\n    \u2022 Investors thinking on open a new business in town, this kind of person could benefit from this analysis to rule out segment of business in tow due saturation of the kind of business on the neighborhood.\n    \u2022 Social Science researchers curious with the behaviour and distribution of venues in the city.\n#### 1.4 Methodology\nAquire Postal Code data from Brazilian cities, clean the data, perform data explorationg, plot basic statistics to describe the data and present metrics, plot maps to present the data gathered, perform feature engineering, clusterization using K-Means, demonstrate results.\n#### 1.5 Sucess Critteria \nThe success criteria of the project will be a good presentation of which are the top 10 kind of venue by neighborhood and some recommendation regarding which are the worst business segments to be opened on some neighborhoods.\n\n\n\n", 
            "cell_type": "markdown", 
            "metadata": {
                "collapsed": true
            }
        }
    ], 
    "metadata": {
        "kernelspec": {
            "display_name": "Python 3.5", 
            "name": "python3", 
            "language": "python"
        }, 
        "language_info": {
            "mimetype": "text/x-python", 
            "nbconvert_exporter": "python", 
            "version": "3.5.5", 
            "name": "python", 
            "pygments_lexer": "ipython3", 
            "file_extension": ".py", 
            "codemirror_mode": {
                "version": 3, 
                "name": "ipython"
            }
        }
    }, 
    "nbformat": 4
}