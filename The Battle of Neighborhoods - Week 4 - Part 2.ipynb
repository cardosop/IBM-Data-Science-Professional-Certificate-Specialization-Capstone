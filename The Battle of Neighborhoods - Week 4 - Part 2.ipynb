{
    "nbformat_minor": 1, 
    "cells": [
        {
            "source": "# The Battle of Neighborhoods - Week 4 - Part 2\n\n## Data\nAs taught in this course the Foursquare API will be used to retrieve data about nearby locations, reviews, visitors, and others. Furthermore, this data gathered from Fourquare will be used to explore the locations, find and describe venues and also feature engineering. This processes will be necessary to perform the clustering (K-Means), with will determine the similarity between the neighborhoods and group them in clusters in order to identify them better.", 
            "cell_type": "markdown", 
            "metadata": {
                "collapsed": true
            }
        }
    ], 
    "metadata": {
        "kernelspec": {
            "display_name": "Python 3.5", 
            "name": "python3", 
            "language": "python"
        }, 
        "language_info": {
            "mimetype": "text/x-python", 
            "nbconvert_exporter": "python", 
            "version": "3.5.5", 
            "name": "python", 
            "pygments_lexer": "ipython3", 
            "file_extension": ".py", 
            "codemirror_mode": {
                "version": 3, 
                "name": "ipython"
            }
        }
    }, 
    "nbformat": 4
}