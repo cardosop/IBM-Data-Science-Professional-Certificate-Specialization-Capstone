{
    "nbformat_minor": 1, 
    "cells": [
        {
            "source": "# The Battle of Neighborhoods - Week 4 - Part 2\n\n## 2 Data\nOn this project was used data originated from three different sources, the first dataset gathered was the brazilian postal code dataset, the next one was data retrieved from the geocoder ArcGIS APIs/Python Library and the third and last source Foursquare API data. It\u2019s important to say that the data gathered from the APIs was used to enrich the original postal code dataset.\n- Postal code: In Brazil is known as CEP, but differently from the data provided on the course a single neibourhood can have several CEPs assigned to it. Link to data: http://cep.la/CEP-dados-2018-UTF8.zip\n- Geocoder ArcGIS: This API was used to retrieve Latitude and Longitude based on Postal code (CEP). ArcGIS API for Python is a Python library for working with maps and geospatial data, powered by web GIS. It provides simple and efficient tools for sophisticated vector and raster analysis, geocoding, map making, routing and directions, as well as for organizing and managing a GIS with users, groups and information items. Link to documentation: https://developers.arcgis.com/python/guide/\n- Foursquare: This API was used to retrieve venue information based on Latitude and Longitude. Back in 2009, Foursquare invented the check-in. Today, those 13+ billion check-ins are the foundation of our powerful, proprietary Pilgrim technology that helps make sense of where phones go for the more than 150,000 partners. Link to API documentation: https://developer.foursquare.com/docs/api\n### 2.1 Data Cleansing\nThe original postal code data gathered on http://cep.la/CEP-dados-2018-UTF8.zip was loaded into the environment and below is presented its representation. And as can be observed the data has several problems as for example:\n- Name of de city separeted on more than one column\n- State abbreviation combined with second column of the city name\n- Neiborhood name and Street name concatened\n- Three empty columns\n\nTo mitigate this issue and enable analyses continuation a data cleansing must be applyed, techniques of string handeling, and dataframe entanglements were utilized on this cleansing. In order to demonstrate the result of cleansing process below is presented the cleaned dataset.\n", 
            "cell_type": "markdown", 
            "metadata": {
                "collapsed": true
            }
        }, 
        {
            "source": "### Loading Libraries and Data Gathering", 
            "cell_type": "markdown", 
            "metadata": {}
        }, 
        {
            "source": "import pandas as pd\nimport numpy as np\nimport zipfile\nimport csv\nprint('Libraries imported.')", 
            "cell_type": "code", 
            "metadata": {}, 
            "outputs": [
                {
                    "output_type": "stream", 
                    "name": "stdout", 
                    "text": "Libraries imported.\n"
                }
            ], 
            "execution_count": 1
        }, 
        {
            "source": "!wget -q -O 'CEP-dados-2018-UTF8.zip' http://cep.la/CEP-dados-2018-UTF8.zip\nprint('Data downloaded!')", 
            "cell_type": "code", 
            "metadata": {}, 
            "outputs": [
                {
                    "output_type": "stream", 
                    "name": "stdout", 
                    "text": "Data downloaded!\n"
                }
            ], 
            "execution_count": 2
        }, 
        {
            "source": "with zipfile.ZipFile(\"CEP-dados-2018-UTF8.zip\",\"r\") as zip_ref:\n    zip_ref.extractall(\"./\")\nprint('Data unziped!')", 
            "cell_type": "code", 
            "metadata": {}, 
            "outputs": [
                {
                    "output_type": "stream", 
                    "name": "stdout", 
                    "text": "Data unziped!\n"
                }
            ], 
            "execution_count": 3
        }, 
        {
            "source": "df = pd.read_fwf('ceps.txt', header = None)\ndf.head()", 
            "cell_type": "code", 
            "metadata": {}, 
            "outputs": [
                {
                    "output_type": "execute_result", 
                    "data": {
                        "text/html": "<div>\n<style scoped>\n    .dataframe tbody tr th:only-of-type {\n        vertical-align: middle;\n    }\n\n    .dataframe tbody tr th {\n        vertical-align: top;\n    }\n\n    .dataframe thead th {\n        text-align: right;\n    }\n</style>\n<table border=\"1\" class=\"dataframe\">\n  <thead>\n    <tr style=\"text-align: right;\">\n      <th></th>\n      <th>0</th>\n      <th>1</th>\n      <th>2</th>\n      <th>3</th>\n      <th>4</th>\n      <th>5</th>\n      <th>6</th>\n    </tr>\n  </thead>\n  <tbody>\n    <tr>\n      <th>0</th>\n      <td>1001000</td>\n      <td>S\u00e3o</td>\n      <td>Paulo/SP</td>\n      <td>S\u00e9\\tPra\u00e7a da S\u00e9 - lado \u00edmpar</td>\n      <td>NaN</td>\n      <td>NaN</td>\n      <td>NaN</td>\n    </tr>\n    <tr>\n      <th>1</th>\n      <td>1001001</td>\n      <td>S\u00e3o</td>\n      <td>Paulo/SP</td>\n      <td>S\u00e9\\tPra\u00e7a da S\u00e9 - lado par</td>\n      <td>NaN</td>\n      <td>NaN</td>\n      <td>NaN</td>\n    </tr>\n    <tr>\n      <th>2</th>\n      <td>1001010</td>\n      <td>S\u00e3o</td>\n      <td>Paulo/SP</td>\n      <td>S\u00e9\\tRua Filipe de Oliveira</td>\n      <td>NaN</td>\n      <td>NaN</td>\n      <td>NaN</td>\n    </tr>\n    <tr>\n      <th>3</th>\n      <td>1001900</td>\n      <td>S\u00e3o</td>\n      <td>Paulo/SP</td>\n      <td>S\u00e9\\tPra\u00e7a da S\u00e9, 108 \\t UNESP - Universidade E...</td>\n      <td>NaN</td>\n      <td>NaN</td>\n      <td>NaN</td>\n    </tr>\n    <tr>\n      <th>4</th>\n      <td>1001901</td>\n      <td>S\u00e3o</td>\n      <td>Paulo/SP</td>\n      <td>S\u00e9\\tPra\u00e7a da S\u00e9, 371 \\t Edif\u00edcio Santa L\u00eddia</td>\n      <td>NaN</td>\n      <td>NaN</td>\n      <td>NaN</td>\n    </tr>\n  </tbody>\n</table>\n</div>", 
                        "text/plain": "         0    1         2                                                  3  \\\n0  1001000  S\u00e3o  Paulo/SP                       S\u00e9\\tPra\u00e7a da S\u00e9 - lado \u00edmpar   \n1  1001001  S\u00e3o  Paulo/SP                         S\u00e9\\tPra\u00e7a da S\u00e9 - lado par   \n2  1001010  S\u00e3o  Paulo/SP                         S\u00e9\\tRua Filipe de Oliveira   \n3  1001900  S\u00e3o  Paulo/SP  S\u00e9\\tPra\u00e7a da S\u00e9, 108 \\t UNESP - Universidade E...   \n4  1001901  S\u00e3o  Paulo/SP       S\u00e9\\tPra\u00e7a da S\u00e9, 371 \\t Edif\u00edcio Santa L\u00eddia   \n\n     4    5    6  \n0  NaN  NaN  NaN  \n1  NaN  NaN  NaN  \n2  NaN  NaN  NaN  \n3  NaN  NaN  NaN  \n4  NaN  NaN  NaN  "
                    }, 
                    "execution_count": 4, 
                    "metadata": {}
                }
            ], 
            "execution_count": 4
        }, 
        {
            "source": "### Data Cleansing and Feature Engineering", 
            "cell_type": "markdown", 
            "metadata": {}
        }, 
        {
            "source": "df1 = df[1] + \" \" + df[2]\ndf2 = pd.DataFrame(df1, columns=[\"CS\"])\n\n\ndf2 = df2[\"CS\"].str.split('/', expand=True)\ndf2.columns = ['City', 'State']\ndf2['CEP'] = df[0]\n\ndf2.head()", 
            "cell_type": "code", 
            "metadata": {}, 
            "outputs": [
                {
                    "output_type": "execute_result", 
                    "data": {
                        "text/html": "<div>\n<style scoped>\n    .dataframe tbody tr th:only-of-type {\n        vertical-align: middle;\n    }\n\n    .dataframe tbody tr th {\n        vertical-align: top;\n    }\n\n    .dataframe thead th {\n        text-align: right;\n    }\n</style>\n<table border=\"1\" class=\"dataframe\">\n  <thead>\n    <tr style=\"text-align: right;\">\n      <th></th>\n      <th>City</th>\n      <th>State</th>\n      <th>CEP</th>\n    </tr>\n  </thead>\n  <tbody>\n    <tr>\n      <th>0</th>\n      <td>S\u00e3o Paulo</td>\n      <td>SP</td>\n      <td>1001000</td>\n    </tr>\n    <tr>\n      <th>1</th>\n      <td>S\u00e3o Paulo</td>\n      <td>SP</td>\n      <td>1001001</td>\n    </tr>\n    <tr>\n      <th>2</th>\n      <td>S\u00e3o Paulo</td>\n      <td>SP</td>\n      <td>1001010</td>\n    </tr>\n    <tr>\n      <th>3</th>\n      <td>S\u00e3o Paulo</td>\n      <td>SP</td>\n      <td>1001900</td>\n    </tr>\n    <tr>\n      <th>4</th>\n      <td>S\u00e3o Paulo</td>\n      <td>SP</td>\n      <td>1001901</td>\n    </tr>\n  </tbody>\n</table>\n</div>", 
                        "text/plain": "        City State      CEP\n0  S\u00e3o Paulo    SP  1001000\n1  S\u00e3o Paulo    SP  1001001\n2  S\u00e3o Paulo    SP  1001010\n3  S\u00e3o Paulo    SP  1001900\n4  S\u00e3o Paulo    SP  1001901"
                    }, 
                    "execution_count": 5, 
                    "metadata": {}
                }
            ], 
            "execution_count": 5
        }, 
        {
            "source": "df3 = pd.DataFrame(df[3])\n\ndf4 = df3[3].str.split('\\t', expand=True)\ndf4['CEP'] = df[0]\n\ndf5 = df4.drop([2, 3], axis = 1)\ndf5.columns = ['Neighborhood', 'Street', 'CEP']\n\ndf5.head()", 
            "cell_type": "code", 
            "metadata": {}, 
            "outputs": [
                {
                    "output_type": "execute_result", 
                    "data": {
                        "text/html": "<div>\n<style scoped>\n    .dataframe tbody tr th:only-of-type {\n        vertical-align: middle;\n    }\n\n    .dataframe tbody tr th {\n        vertical-align: top;\n    }\n\n    .dataframe thead th {\n        text-align: right;\n    }\n</style>\n<table border=\"1\" class=\"dataframe\">\n  <thead>\n    <tr style=\"text-align: right;\">\n      <th></th>\n      <th>Neighborhood</th>\n      <th>Street</th>\n      <th>CEP</th>\n    </tr>\n  </thead>\n  <tbody>\n    <tr>\n      <th>0</th>\n      <td>S\u00e9</td>\n      <td>Pra\u00e7a da S\u00e9 - lado \u00edmpar</td>\n      <td>1001000</td>\n    </tr>\n    <tr>\n      <th>1</th>\n      <td>S\u00e9</td>\n      <td>Pra\u00e7a da S\u00e9 - lado par</td>\n      <td>1001001</td>\n    </tr>\n    <tr>\n      <th>2</th>\n      <td>S\u00e9</td>\n      <td>Rua Filipe de Oliveira</td>\n      <td>1001010</td>\n    </tr>\n    <tr>\n      <th>3</th>\n      <td>S\u00e9</td>\n      <td>Pra\u00e7a da S\u00e9, 108</td>\n      <td>1001900</td>\n    </tr>\n    <tr>\n      <th>4</th>\n      <td>S\u00e9</td>\n      <td>Pra\u00e7a da S\u00e9, 371</td>\n      <td>1001901</td>\n    </tr>\n  </tbody>\n</table>\n</div>", 
                        "text/plain": "  Neighborhood                    Street      CEP\n0           S\u00e9  Pra\u00e7a da S\u00e9 - lado \u00edmpar  1001000\n1           S\u00e9    Pra\u00e7a da S\u00e9 - lado par  1001001\n2           S\u00e9    Rua Filipe de Oliveira  1001010\n3           S\u00e9         Pra\u00e7a da S\u00e9, 108   1001900\n4           S\u00e9         Pra\u00e7a da S\u00e9, 371   1001901"
                    }, 
                    "execution_count": 6, 
                    "metadata": {}
                }
            ], 
            "execution_count": 6
        }, 
        {
            "source": "dfm = pd.merge(df2, df5, on='CEP')\ndfm.head()", 
            "cell_type": "code", 
            "metadata": {}, 
            "outputs": [
                {
                    "output_type": "execute_result", 
                    "data": {
                        "text/html": "<div>\n<style scoped>\n    .dataframe tbody tr th:only-of-type {\n        vertical-align: middle;\n    }\n\n    .dataframe tbody tr th {\n        vertical-align: top;\n    }\n\n    .dataframe thead th {\n        text-align: right;\n    }\n</style>\n<table border=\"1\" class=\"dataframe\">\n  <thead>\n    <tr style=\"text-align: right;\">\n      <th></th>\n      <th>City</th>\n      <th>State</th>\n      <th>CEP</th>\n      <th>Neighborhood</th>\n      <th>Street</th>\n    </tr>\n  </thead>\n  <tbody>\n    <tr>\n      <th>0</th>\n      <td>S\u00e3o Paulo</td>\n      <td>SP</td>\n      <td>1001000</td>\n      <td>S\u00e9</td>\n      <td>Pra\u00e7a da S\u00e9 - lado \u00edmpar</td>\n    </tr>\n    <tr>\n      <th>1</th>\n      <td>S\u00e3o Paulo</td>\n      <td>SP</td>\n      <td>1001001</td>\n      <td>S\u00e9</td>\n      <td>Pra\u00e7a da S\u00e9 - lado par</td>\n    </tr>\n    <tr>\n      <th>2</th>\n      <td>S\u00e3o Paulo</td>\n      <td>SP</td>\n      <td>1001010</td>\n      <td>S\u00e9</td>\n      <td>Rua Filipe de Oliveira</td>\n    </tr>\n    <tr>\n      <th>3</th>\n      <td>S\u00e3o Paulo</td>\n      <td>SP</td>\n      <td>1001900</td>\n      <td>S\u00e9</td>\n      <td>Pra\u00e7a da S\u00e9, 108</td>\n    </tr>\n    <tr>\n      <th>4</th>\n      <td>S\u00e3o Paulo</td>\n      <td>SP</td>\n      <td>1001901</td>\n      <td>S\u00e9</td>\n      <td>Pra\u00e7a da S\u00e9, 371</td>\n    </tr>\n  </tbody>\n</table>\n</div>", 
                        "text/plain": "        City State      CEP Neighborhood                    Street\n0  S\u00e3o Paulo    SP  1001000           S\u00e9  Pra\u00e7a da S\u00e9 - lado \u00edmpar\n1  S\u00e3o Paulo    SP  1001001           S\u00e9    Pra\u00e7a da S\u00e9 - lado par\n2  S\u00e3o Paulo    SP  1001010           S\u00e9    Rua Filipe de Oliveira\n3  S\u00e3o Paulo    SP  1001900           S\u00e9         Pra\u00e7a da S\u00e9, 108 \n4  S\u00e3o Paulo    SP  1001901           S\u00e9         Pra\u00e7a da S\u00e9, 371 "
                    }, 
                    "execution_count": 7, 
                    "metadata": {}
                }
            ], 
            "execution_count": 7
        }, 
        {
            "source": "dt = dfm[dfm['City'] == 'S\u00e3o Paulo']\ndt.tail()", 
            "cell_type": "code", 
            "metadata": {}, 
            "outputs": [
                {
                    "output_type": "execute_result", 
                    "data": {
                        "text/html": "<div>\n<style scoped>\n    .dataframe tbody tr th:only-of-type {\n        vertical-align: middle;\n    }\n\n    .dataframe tbody tr th {\n        vertical-align: top;\n    }\n\n    .dataframe thead th {\n        text-align: right;\n    }\n</style>\n<table border=\"1\" class=\"dataframe\">\n  <thead>\n    <tr style=\"text-align: right;\">\n      <th></th>\n      <th>City</th>\n      <th>State</th>\n      <th>CEP</th>\n      <th>Neighborhood</th>\n      <th>Street</th>\n    </tr>\n  </thead>\n  <tbody>\n    <tr>\n      <th>88115</th>\n      <td>S\u00e3o Paulo</td>\n      <td>SP</td>\n      <td>8490885</td>\n      <td>Jardim Pedra Branca</td>\n      <td>Rua Cambar\u00e1-Branco</td>\n    </tr>\n    <tr>\n      <th>88116</th>\n      <td>S\u00e3o Paulo</td>\n      <td>SP</td>\n      <td>8490886</td>\n      <td>Jardim Pedra Branca</td>\n      <td>Rua Erva-Baleeira</td>\n    </tr>\n    <tr>\n      <th>88117</th>\n      <td>S\u00e3o Paulo</td>\n      <td>SP</td>\n      <td>8490890</td>\n      <td>Jardim Pedra Branca</td>\n      <td>Rua Buritizinho</td>\n    </tr>\n    <tr>\n      <th>88118</th>\n      <td>S\u00e3o Paulo</td>\n      <td>SP</td>\n      <td>8490895</td>\n      <td>Jardim Pedra Branca</td>\n      <td>Rua Rosa da Venezuela</td>\n    </tr>\n    <tr>\n      <th>88119</th>\n      <td>S\u00e3o Paulo</td>\n      <td>SP</td>\n      <td>8491030</td>\n      <td>Guaianazes</td>\n      <td>Rua Lauro</td>\n    </tr>\n  </tbody>\n</table>\n</div>", 
                        "text/plain": "            City State      CEP         Neighborhood                 Street\n88115  S\u00e3o Paulo    SP  8490885  Jardim Pedra Branca     Rua Cambar\u00e1-Branco\n88116  S\u00e3o Paulo    SP  8490886  Jardim Pedra Branca      Rua Erva-Baleeira\n88117  S\u00e3o Paulo    SP  8490890  Jardim Pedra Branca        Rua Buritizinho\n88118  S\u00e3o Paulo    SP  8490895  Jardim Pedra Branca  Rua Rosa da Venezuela\n88119  S\u00e3o Paulo    SP  8491030           Guaianazes              Rua Lauro"
                    }, 
                    "execution_count": 8, 
                    "metadata": {}
                }
            ], 
            "execution_count": 8
        }, 
        {
            "source": "#### Dropping last three digits of CEP to enlarge the grain od the postal code and get more meaningful data from foursquare", 
            "cell_type": "markdown", 
            "metadata": {}
        }, 
        {
            "source": "dt1 = dt.drop_duplicates('Neighborhood', keep='first')\ndt1.shape", 
            "cell_type": "code", 
            "metadata": {}, 
            "outputs": [
                {
                    "output_type": "execute_result", 
                    "data": {
                        "text/plain": "(1920, 5)"
                    }, 
                    "execution_count": 9, 
                    "metadata": {}
                }
            ], 
            "execution_count": 9
        }, 
        {
            "source": "dt1.head(10)", 
            "cell_type": "code", 
            "metadata": {}, 
            "outputs": [
                {
                    "output_type": "execute_result", 
                    "data": {
                        "text/html": "<div>\n<style scoped>\n    .dataframe tbody tr th:only-of-type {\n        vertical-align: middle;\n    }\n\n    .dataframe tbody tr th {\n        vertical-align: top;\n    }\n\n    .dataframe thead th {\n        text-align: right;\n    }\n</style>\n<table border=\"1\" class=\"dataframe\">\n  <thead>\n    <tr style=\"text-align: right;\">\n      <th></th>\n      <th>City</th>\n      <th>State</th>\n      <th>CEP</th>\n      <th>Neighborhood</th>\n      <th>Street</th>\n    </tr>\n  </thead>\n  <tbody>\n    <tr>\n      <th>0</th>\n      <td>S\u00e3o Paulo</td>\n      <td>SP</td>\n      <td>1001000</td>\n      <td>S\u00e9</td>\n      <td>Pra\u00e7a da S\u00e9 - lado \u00edmpar</td>\n    </tr>\n    <tr>\n      <th>9</th>\n      <td>S\u00e3o Paulo</td>\n      <td>SP</td>\n      <td>1002020</td>\n      <td>Centro</td>\n      <td>Viaduto do Ch\u00e1</td>\n    </tr>\n    <tr>\n      <th>173</th>\n      <td>S\u00e3o Paulo</td>\n      <td>SP</td>\n      <td>1017000</td>\n      <td>Br\u00e1s</td>\n      <td>Avenida Rangel Pestana - at\u00e9 499/500</td>\n    </tr>\n    <tr>\n      <th>337</th>\n      <td>S\u00e3o Paulo</td>\n      <td>SP</td>\n      <td>1035100</td>\n      <td>Rep\u00fablica</td>\n      <td>Avenida S\u00e3o Jo\u00e3o - de 651 a 1339 - lado \u00edmpar</td>\n    </tr>\n    <tr>\n      <th>540</th>\n      <td>S\u00e3o Paulo</td>\n      <td>SP</td>\n      <td>1101000</td>\n      <td>Luz</td>\n      <td>Avenida Santos Dumont - at\u00e9 999/1000</td>\n    </tr>\n    <tr>\n      <th>546</th>\n      <td>S\u00e3o Paulo</td>\n      <td>SP</td>\n      <td>1101080</td>\n      <td>Ponte Pequena</td>\n      <td>Ponte Santos Dumont</td>\n    </tr>\n    <tr>\n      <th>591</th>\n      <td>S\u00e3o Paulo</td>\n      <td>SP</td>\n      <td>1107000</td>\n      <td>Bom Retiro</td>\n      <td>Avenida do Estado - at\u00e9 2599 - lado \u00edmpar</td>\n    </tr>\n    <tr>\n      <th>602</th>\n      <td>S\u00e3o Paulo</td>\n      <td>SP</td>\n      <td>1109000</td>\n      <td>Canind\u00e9</td>\n      <td>Avenida Cruzeiro do Sul - at\u00e9 1299 - lado \u00edmpar</td>\n    </tr>\n    <tr>\n      <th>723</th>\n      <td>S\u00e3o Paulo</td>\n      <td>SP</td>\n      <td>1134901</td>\n      <td>Barra Funda</td>\n      <td>Avenida Rudge, 700</td>\n    </tr>\n    <tr>\n      <th>734</th>\n      <td>S\u00e3o Paulo</td>\n      <td>SP</td>\n      <td>1136005</td>\n      <td>V\u00e1rzea da Barra Funda</td>\n      <td>Rua Am\u00e9rico Del Veneri</td>\n    </tr>\n  </tbody>\n</table>\n</div>", 
                        "text/plain": "          City State      CEP           Neighborhood  \\\n0    S\u00e3o Paulo    SP  1001000                     S\u00e9   \n9    S\u00e3o Paulo    SP  1002020                 Centro   \n173  S\u00e3o Paulo    SP  1017000                   Br\u00e1s   \n337  S\u00e3o Paulo    SP  1035100              Rep\u00fablica   \n540  S\u00e3o Paulo    SP  1101000                    Luz   \n546  S\u00e3o Paulo    SP  1101080          Ponte Pequena   \n591  S\u00e3o Paulo    SP  1107000             Bom Retiro   \n602  S\u00e3o Paulo    SP  1109000                Canind\u00e9   \n723  S\u00e3o Paulo    SP  1134901            Barra Funda   \n734  S\u00e3o Paulo    SP  1136005  V\u00e1rzea da Barra Funda   \n\n                                              Street  \n0                           Pra\u00e7a da S\u00e9 - lado \u00edmpar  \n9                                     Viaduto do Ch\u00e1  \n173             Avenida Rangel Pestana - at\u00e9 499/500  \n337    Avenida S\u00e3o Jo\u00e3o - de 651 a 1339 - lado \u00edmpar  \n540             Avenida Santos Dumont - at\u00e9 999/1000  \n546                              Ponte Santos Dumont  \n591        Avenida do Estado - at\u00e9 2599 - lado \u00edmpar  \n602  Avenida Cruzeiro do Sul - at\u00e9 1299 - lado \u00edmpar  \n723                              Avenida Rudge, 700   \n734                           Rua Am\u00e9rico Del Veneri  "
                    }, 
                    "execution_count": 10, 
                    "metadata": {}
                }
            ], 
            "execution_count": 10
        }
    ], 
    "metadata": {
        "kernelspec": {
            "display_name": "Python 3.5", 
            "name": "python3", 
            "language": "python"
        }, 
        "language_info": {
            "mimetype": "text/x-python", 
            "nbconvert_exporter": "python", 
            "version": "3.5.5", 
            "name": "python", 
            "pygments_lexer": "ipython3", 
            "file_extension": ".py", 
            "codemirror_mode": {
                "version": 3, 
                "name": "ipython"
            }
        }
    }, 
    "nbformat": 4
}