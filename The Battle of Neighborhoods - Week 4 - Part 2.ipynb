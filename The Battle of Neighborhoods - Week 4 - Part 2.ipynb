{
    "nbformat_minor": 1, 
    "cells": [
        {
            "source": "# The Battle of Neighborhoods - Week 4 - Part 2\n\n## Data\nAs taught in this course the Foursquare API will be used to retrieve data about nearby locations, reviews, visitors, and others. In addition to Foursquare API, data from http://cep.la/baixar also will be utulized, this data represents the postal code of the state os S\u00e3o Paulo with its sity, neighbourhood and street, link to the data http://cep.la/CEP-dados-2018-UTF8.zip.\nFurthermore, this data gathered from Fourquare will be used to explore the locations, find and describe venues and also feature engineering. This processes will be necessary to perform the clustering (K-Means), with will determine the similarity between the neighborhoods and group them in clusters in order to identify them better.", 
            "cell_type": "markdown", 
            "metadata": {
                "collapsed": true
            }
        }, 
        {
            "source": "### Loading Libraries and Data Gathering", 
            "cell_type": "markdown", 
            "metadata": {}
        }, 
        {
            "source": "import pandas as pd\nimport numpy as np\nimport zipfile\nimport csv\nprint('Libraries imported.')", 
            "cell_type": "code", 
            "metadata": {}, 
            "outputs": [
                {
                    "output_type": "stream", 
                    "name": "stdout", 
                    "text": "Libraries imported.\n"
                }
            ], 
            "execution_count": 2
        }, 
        {
            "source": "!wget -q -O 'CEP-dados-2018-UTF8.zip' http://cep.la/CEP-dados-2018-UTF8.zip\nprint('Data downloaded!')", 
            "cell_type": "code", 
            "metadata": {}, 
            "outputs": [
                {
                    "output_type": "stream", 
                    "name": "stdout", 
                    "text": "Data downloaded!\n"
                }
            ], 
            "execution_count": 3
        }, 
        {
            "source": "with zipfile.ZipFile(\"CEP-dados-2018-UTF8.zip\",\"r\") as zip_ref:\n    zip_ref.extractall(\"./\")\nprint('Data unziped!')", 
            "cell_type": "code", 
            "metadata": {}, 
            "outputs": [
                {
                    "output_type": "stream", 
                    "name": "stdout", 
                    "text": "Data unziped!\n"
                }
            ], 
            "execution_count": 4
        }, 
        {
            "source": "df = pd.read_fwf('ceps.txt', header = None)\ndf.head()", 
            "cell_type": "code", 
            "metadata": {}, 
            "outputs": [
                {
                    "output_type": "execute_result", 
                    "data": {
                        "text/html": "<div>\n<style scoped>\n    .dataframe tbody tr th:only-of-type {\n        vertical-align: middle;\n    }\n\n    .dataframe tbody tr th {\n        vertical-align: top;\n    }\n\n    .dataframe thead th {\n        text-align: right;\n    }\n</style>\n<table border=\"1\" class=\"dataframe\">\n  <thead>\n    <tr style=\"text-align: right;\">\n      <th></th>\n      <th>0</th>\n      <th>1</th>\n      <th>2</th>\n      <th>3</th>\n      <th>4</th>\n      <th>5</th>\n      <th>6</th>\n    </tr>\n  </thead>\n  <tbody>\n    <tr>\n      <th>0</th>\n      <td>1001000</td>\n      <td>S\u00e3o</td>\n      <td>Paulo/SP</td>\n      <td>S\u00e9\\tPra\u00e7a da S\u00e9 - lado \u00edmpar</td>\n      <td>NaN</td>\n      <td>NaN</td>\n      <td>NaN</td>\n    </tr>\n    <tr>\n      <th>1</th>\n      <td>1001001</td>\n      <td>S\u00e3o</td>\n      <td>Paulo/SP</td>\n      <td>S\u00e9\\tPra\u00e7a da S\u00e9 - lado par</td>\n      <td>NaN</td>\n      <td>NaN</td>\n      <td>NaN</td>\n    </tr>\n    <tr>\n      <th>2</th>\n      <td>1001010</td>\n      <td>S\u00e3o</td>\n      <td>Paulo/SP</td>\n      <td>S\u00e9\\tRua Filipe de Oliveira</td>\n      <td>NaN</td>\n      <td>NaN</td>\n      <td>NaN</td>\n    </tr>\n    <tr>\n      <th>3</th>\n      <td>1001900</td>\n      <td>S\u00e3o</td>\n      <td>Paulo/SP</td>\n      <td>S\u00e9\\tPra\u00e7a da S\u00e9, 108 \\t UNESP - Universidade E...</td>\n      <td>NaN</td>\n      <td>NaN</td>\n      <td>NaN</td>\n    </tr>\n    <tr>\n      <th>4</th>\n      <td>1001901</td>\n      <td>S\u00e3o</td>\n      <td>Paulo/SP</td>\n      <td>S\u00e9\\tPra\u00e7a da S\u00e9, 371 \\t Edif\u00edcio Santa L\u00eddia</td>\n      <td>NaN</td>\n      <td>NaN</td>\n      <td>NaN</td>\n    </tr>\n  </tbody>\n</table>\n</div>", 
                        "text/plain": "         0    1         2                                                  3  \\\n0  1001000  S\u00e3o  Paulo/SP                       S\u00e9\\tPra\u00e7a da S\u00e9 - lado \u00edmpar   \n1  1001001  S\u00e3o  Paulo/SP                         S\u00e9\\tPra\u00e7a da S\u00e9 - lado par   \n2  1001010  S\u00e3o  Paulo/SP                         S\u00e9\\tRua Filipe de Oliveira   \n3  1001900  S\u00e3o  Paulo/SP  S\u00e9\\tPra\u00e7a da S\u00e9, 108 \\t UNESP - Universidade E...   \n4  1001901  S\u00e3o  Paulo/SP       S\u00e9\\tPra\u00e7a da S\u00e9, 371 \\t Edif\u00edcio Santa L\u00eddia   \n\n     4    5    6  \n0  NaN  NaN  NaN  \n1  NaN  NaN  NaN  \n2  NaN  NaN  NaN  \n3  NaN  NaN  NaN  \n4  NaN  NaN  NaN  "
                    }, 
                    "execution_count": 5, 
                    "metadata": {}
                }
            ], 
            "execution_count": 5
        }, 
        {
            "source": "### Data Cleansing and Feature Engineering", 
            "cell_type": "markdown", 
            "metadata": {}
        }, 
        {
            "source": "df1 = df[1] + \" \" + df[2]\ndf2 = pd.DataFrame(df1, columns=[\"CS\"])\n\n\ndf2 = df2[\"CS\"].str.split('/', expand=True)\ndf2.columns = ['City', 'State']\ndf2['CEP'] = df[0]\n\ndf2.head()", 
            "cell_type": "code", 
            "metadata": {}, 
            "outputs": [
                {
                    "output_type": "execute_result", 
                    "data": {
                        "text/html": "<div>\n<style scoped>\n    .dataframe tbody tr th:only-of-type {\n        vertical-align: middle;\n    }\n\n    .dataframe tbody tr th {\n        vertical-align: top;\n    }\n\n    .dataframe thead th {\n        text-align: right;\n    }\n</style>\n<table border=\"1\" class=\"dataframe\">\n  <thead>\n    <tr style=\"text-align: right;\">\n      <th></th>\n      <th>City</th>\n      <th>State</th>\n      <th>CEP</th>\n    </tr>\n  </thead>\n  <tbody>\n    <tr>\n      <th>0</th>\n      <td>S\u00e3o Paulo</td>\n      <td>SP</td>\n      <td>1001000</td>\n    </tr>\n    <tr>\n      <th>1</th>\n      <td>S\u00e3o Paulo</td>\n      <td>SP</td>\n      <td>1001001</td>\n    </tr>\n    <tr>\n      <th>2</th>\n      <td>S\u00e3o Paulo</td>\n      <td>SP</td>\n      <td>1001010</td>\n    </tr>\n    <tr>\n      <th>3</th>\n      <td>S\u00e3o Paulo</td>\n      <td>SP</td>\n      <td>1001900</td>\n    </tr>\n    <tr>\n      <th>4</th>\n      <td>S\u00e3o Paulo</td>\n      <td>SP</td>\n      <td>1001901</td>\n    </tr>\n  </tbody>\n</table>\n</div>", 
                        "text/plain": "        City State      CEP\n0  S\u00e3o Paulo    SP  1001000\n1  S\u00e3o Paulo    SP  1001001\n2  S\u00e3o Paulo    SP  1001010\n3  S\u00e3o Paulo    SP  1001900\n4  S\u00e3o Paulo    SP  1001901"
                    }, 
                    "execution_count": 6, 
                    "metadata": {}
                }
            ], 
            "execution_count": 6
        }, 
        {
            "source": "df3 = pd.DataFrame(df[3])\n\ndf4 = df3[3].str.split('\\t', expand=True)\ndf4['CEP'] = df[0]\n\ndf5 = df4.drop([2, 3], axis = 1)\ndf5.columns = ['Neighborhood', 'Street', 'CEP']\n\ndf5.head()", 
            "cell_type": "code", 
            "metadata": {}, 
            "outputs": [
                {
                    "output_type": "execute_result", 
                    "data": {
                        "text/html": "<div>\n<style scoped>\n    .dataframe tbody tr th:only-of-type {\n        vertical-align: middle;\n    }\n\n    .dataframe tbody tr th {\n        vertical-align: top;\n    }\n\n    .dataframe thead th {\n        text-align: right;\n    }\n</style>\n<table border=\"1\" class=\"dataframe\">\n  <thead>\n    <tr style=\"text-align: right;\">\n      <th></th>\n      <th>Neighborhood</th>\n      <th>Street</th>\n      <th>CEP</th>\n    </tr>\n  </thead>\n  <tbody>\n    <tr>\n      <th>0</th>\n      <td>S\u00e9</td>\n      <td>Pra\u00e7a da S\u00e9 - lado \u00edmpar</td>\n      <td>1001000</td>\n    </tr>\n    <tr>\n      <th>1</th>\n      <td>S\u00e9</td>\n      <td>Pra\u00e7a da S\u00e9 - lado par</td>\n      <td>1001001</td>\n    </tr>\n    <tr>\n      <th>2</th>\n      <td>S\u00e9</td>\n      <td>Rua Filipe de Oliveira</td>\n      <td>1001010</td>\n    </tr>\n    <tr>\n      <th>3</th>\n      <td>S\u00e9</td>\n      <td>Pra\u00e7a da S\u00e9, 108</td>\n      <td>1001900</td>\n    </tr>\n    <tr>\n      <th>4</th>\n      <td>S\u00e9</td>\n      <td>Pra\u00e7a da S\u00e9, 371</td>\n      <td>1001901</td>\n    </tr>\n  </tbody>\n</table>\n</div>", 
                        "text/plain": "  Neighborhood                    Street      CEP\n0           S\u00e9  Pra\u00e7a da S\u00e9 - lado \u00edmpar  1001000\n1           S\u00e9    Pra\u00e7a da S\u00e9 - lado par  1001001\n2           S\u00e9    Rua Filipe de Oliveira  1001010\n3           S\u00e9         Pra\u00e7a da S\u00e9, 108   1001900\n4           S\u00e9         Pra\u00e7a da S\u00e9, 371   1001901"
                    }, 
                    "execution_count": 7, 
                    "metadata": {}
                }
            ], 
            "execution_count": 7
        }, 
        {
            "source": "dfm = pd.merge(df2, df5, on='CEP')\ndfm.head()", 
            "cell_type": "code", 
            "metadata": {}, 
            "outputs": [
                {
                    "output_type": "execute_result", 
                    "data": {
                        "text/html": "<div>\n<style scoped>\n    .dataframe tbody tr th:only-of-type {\n        vertical-align: middle;\n    }\n\n    .dataframe tbody tr th {\n        vertical-align: top;\n    }\n\n    .dataframe thead th {\n        text-align: right;\n    }\n</style>\n<table border=\"1\" class=\"dataframe\">\n  <thead>\n    <tr style=\"text-align: right;\">\n      <th></th>\n      <th>City</th>\n      <th>State</th>\n      <th>CEP</th>\n      <th>Neighborhood</th>\n      <th>Street</th>\n    </tr>\n  </thead>\n  <tbody>\n    <tr>\n      <th>0</th>\n      <td>S\u00e3o Paulo</td>\n      <td>SP</td>\n      <td>1001000</td>\n      <td>S\u00e9</td>\n      <td>Pra\u00e7a da S\u00e9 - lado \u00edmpar</td>\n    </tr>\n    <tr>\n      <th>1</th>\n      <td>S\u00e3o Paulo</td>\n      <td>SP</td>\n      <td>1001001</td>\n      <td>S\u00e9</td>\n      <td>Pra\u00e7a da S\u00e9 - lado par</td>\n    </tr>\n    <tr>\n      <th>2</th>\n      <td>S\u00e3o Paulo</td>\n      <td>SP</td>\n      <td>1001010</td>\n      <td>S\u00e9</td>\n      <td>Rua Filipe de Oliveira</td>\n    </tr>\n    <tr>\n      <th>3</th>\n      <td>S\u00e3o Paulo</td>\n      <td>SP</td>\n      <td>1001900</td>\n      <td>S\u00e9</td>\n      <td>Pra\u00e7a da S\u00e9, 108</td>\n    </tr>\n    <tr>\n      <th>4</th>\n      <td>S\u00e3o Paulo</td>\n      <td>SP</td>\n      <td>1001901</td>\n      <td>S\u00e9</td>\n      <td>Pra\u00e7a da S\u00e9, 371</td>\n    </tr>\n  </tbody>\n</table>\n</div>", 
                        "text/plain": "        City State      CEP Neighborhood                    Street\n0  S\u00e3o Paulo    SP  1001000           S\u00e9  Pra\u00e7a da S\u00e9 - lado \u00edmpar\n1  S\u00e3o Paulo    SP  1001001           S\u00e9    Pra\u00e7a da S\u00e9 - lado par\n2  S\u00e3o Paulo    SP  1001010           S\u00e9    Rua Filipe de Oliveira\n3  S\u00e3o Paulo    SP  1001900           S\u00e9         Pra\u00e7a da S\u00e9, 108 \n4  S\u00e3o Paulo    SP  1001901           S\u00e9         Pra\u00e7a da S\u00e9, 371 "
                    }, 
                    "execution_count": 8, 
                    "metadata": {}
                }
            ], 
            "execution_count": 8
        }, 
        {
            "source": "dfm.tail()", 
            "cell_type": "code", 
            "metadata": {}, 
            "outputs": [
                {
                    "output_type": "execute_result", 
                    "data": {
                        "text/html": "<div>\n<style scoped>\n    .dataframe tbody tr th:only-of-type {\n        vertical-align: middle;\n    }\n\n    .dataframe tbody tr th {\n        vertical-align: top;\n    }\n\n    .dataframe thead th {\n        text-align: right;\n    }\n</style>\n<table border=\"1\" class=\"dataframe\">\n  <thead>\n    <tr style=\"text-align: right;\">\n      <th></th>\n      <th>City</th>\n      <th>State</th>\n      <th>CEP</th>\n      <th>Neighborhood</th>\n      <th>Street</th>\n    </tr>\n  </thead>\n  <tbody>\n    <tr>\n      <th>732758</th>\n      <td>S\u00e3o Jo\u00e3o Bos</td>\n      <td>None</td>\n      <td>99975970</td>\n      <td>o (Cir\u00edaco)/RS  - Distrito</td>\n      <td>Centro</td>\n    </tr>\n    <tr>\n      <th>732759</th>\n      <td>Cru altinha</td>\n      <td>None</td>\n      <td>99978000</td>\n      <td>Cir\u00edaco)/RS  - Distrito</td>\n      <td>None</td>\n    </tr>\n    <tr>\n      <th>732760</th>\n      <td>Dav d Canaba</td>\n      <td>None</td>\n      <td>99980000</td>\n      <td>ro/RS</td>\n      <td>None</td>\n    </tr>\n    <tr>\n      <th>732761</th>\n      <td>Dav d Canaba</td>\n      <td>None</td>\n      <td>99980970</td>\n      <td>ro/RS</td>\n      <td>Centro</td>\n    </tr>\n    <tr>\n      <th>732762</th>\n      <td>Dav d Canaba</td>\n      <td>None</td>\n      <td>99980974</td>\n      <td>ro/RS</td>\n      <td>Capela S\u00e3o Jos\u00e9 do Capingui (Distrito)</td>\n    </tr>\n  </tbody>\n</table>\n</div>", 
                        "text/plain": "                City State       CEP                Neighborhood  \\\n732758  S\u00e3o Jo\u00e3o Bos  None  99975970  o (Cir\u00edaco)/RS  - Distrito   \n732759   Cru altinha  None  99978000     Cir\u00edaco)/RS  - Distrito   \n732760  Dav d Canaba  None  99980000                       ro/RS   \n732761  Dav d Canaba  None  99980970                       ro/RS   \n732762  Dav d Canaba  None  99980974                       ro/RS   \n\n                                        Street  \n732758                                  Centro  \n732759                                    None  \n732760                                    None  \n732761                                  Centro  \n732762  Capela S\u00e3o Jos\u00e9 do Capingui (Distrito)  "
                    }, 
                    "execution_count": 9, 
                    "metadata": {}
                }
            ], 
            "execution_count": 9
        }, 
        {
            "source": "dt = dfm[dfm['City'] == 'S\u00e3o Paulo']\ndt.tail()", 
            "cell_type": "code", 
            "metadata": {}, 
            "outputs": [
                {
                    "output_type": "execute_result", 
                    "data": {
                        "text/html": "<div>\n<style scoped>\n    .dataframe tbody tr th:only-of-type {\n        vertical-align: middle;\n    }\n\n    .dataframe tbody tr th {\n        vertical-align: top;\n    }\n\n    .dataframe thead th {\n        text-align: right;\n    }\n</style>\n<table border=\"1\" class=\"dataframe\">\n  <thead>\n    <tr style=\"text-align: right;\">\n      <th></th>\n      <th>City</th>\n      <th>State</th>\n      <th>CEP</th>\n      <th>Neighborhood</th>\n      <th>Street</th>\n    </tr>\n  </thead>\n  <tbody>\n    <tr>\n      <th>88115</th>\n      <td>S\u00e3o Paulo</td>\n      <td>SP</td>\n      <td>8490885</td>\n      <td>Jardim Pedra Branca</td>\n      <td>Rua Cambar\u00e1-Branco</td>\n    </tr>\n    <tr>\n      <th>88116</th>\n      <td>S\u00e3o Paulo</td>\n      <td>SP</td>\n      <td>8490886</td>\n      <td>Jardim Pedra Branca</td>\n      <td>Rua Erva-Baleeira</td>\n    </tr>\n    <tr>\n      <th>88117</th>\n      <td>S\u00e3o Paulo</td>\n      <td>SP</td>\n      <td>8490890</td>\n      <td>Jardim Pedra Branca</td>\n      <td>Rua Buritizinho</td>\n    </tr>\n    <tr>\n      <th>88118</th>\n      <td>S\u00e3o Paulo</td>\n      <td>SP</td>\n      <td>8490895</td>\n      <td>Jardim Pedra Branca</td>\n      <td>Rua Rosa da Venezuela</td>\n    </tr>\n    <tr>\n      <th>88119</th>\n      <td>S\u00e3o Paulo</td>\n      <td>SP</td>\n      <td>8491030</td>\n      <td>Guaianazes</td>\n      <td>Rua Lauro</td>\n    </tr>\n  </tbody>\n</table>\n</div>", 
                        "text/plain": "            City State      CEP         Neighborhood                 Street\n88115  S\u00e3o Paulo    SP  8490885  Jardim Pedra Branca     Rua Cambar\u00e1-Branco\n88116  S\u00e3o Paulo    SP  8490886  Jardim Pedra Branca      Rua Erva-Baleeira\n88117  S\u00e3o Paulo    SP  8490890  Jardim Pedra Branca        Rua Buritizinho\n88118  S\u00e3o Paulo    SP  8490895  Jardim Pedra Branca  Rua Rosa da Venezuela\n88119  S\u00e3o Paulo    SP  8491030           Guaianazes              Rua Lauro"
                    }, 
                    "execution_count": 23, 
                    "metadata": {}
                }
            ], 
            "execution_count": 23
        }, 
        {
            "source": "#### Dropping last three digits of CEP to enlarge the grain od the postal code and get more meaningful data from foursquare", 
            "cell_type": "markdown", 
            "metadata": {}
        }, 
        {
            "source": "dt['CEPred'] = dt['CEP'].astype(str).str[:-3].astype(np.int64)\ndt.head()", 
            "cell_type": "code", 
            "metadata": {}, 
            "outputs": [
                {
                    "output_type": "stream", 
                    "name": "stderr", 
                    "text": "/opt/conda/envs/DSX-Python35/lib/python3.5/site-packages/ipykernel/__main__.py:1: SettingWithCopyWarning: \nA value is trying to be set on a copy of a slice from a DataFrame.\nTry using .loc[row_indexer,col_indexer] = value instead\n\nSee the caveats in the documentation: http://pandas.pydata.org/pandas-docs/stable/indexing.html#indexing-view-versus-copy\n  if __name__ == '__main__':\n"
                }, 
                {
                    "output_type": "execute_result", 
                    "data": {
                        "text/html": "<div>\n<style scoped>\n    .dataframe tbody tr th:only-of-type {\n        vertical-align: middle;\n    }\n\n    .dataframe tbody tr th {\n        vertical-align: top;\n    }\n\n    .dataframe thead th {\n        text-align: right;\n    }\n</style>\n<table border=\"1\" class=\"dataframe\">\n  <thead>\n    <tr style=\"text-align: right;\">\n      <th></th>\n      <th>City</th>\n      <th>State</th>\n      <th>CEP</th>\n      <th>Neighborhood</th>\n      <th>Street</th>\n      <th>CEPred</th>\n    </tr>\n  </thead>\n  <tbody>\n    <tr>\n      <th>0</th>\n      <td>S\u00e3o Paulo</td>\n      <td>SP</td>\n      <td>1001000</td>\n      <td>S\u00e9</td>\n      <td>Pra\u00e7a da S\u00e9 - lado \u00edmpar</td>\n      <td>1001</td>\n    </tr>\n    <tr>\n      <th>1</th>\n      <td>S\u00e3o Paulo</td>\n      <td>SP</td>\n      <td>1001001</td>\n      <td>S\u00e9</td>\n      <td>Pra\u00e7a da S\u00e9 - lado par</td>\n      <td>1001</td>\n    </tr>\n    <tr>\n      <th>2</th>\n      <td>S\u00e3o Paulo</td>\n      <td>SP</td>\n      <td>1001010</td>\n      <td>S\u00e9</td>\n      <td>Rua Filipe de Oliveira</td>\n      <td>1001</td>\n    </tr>\n    <tr>\n      <th>3</th>\n      <td>S\u00e3o Paulo</td>\n      <td>SP</td>\n      <td>1001900</td>\n      <td>S\u00e9</td>\n      <td>Pra\u00e7a da S\u00e9, 108</td>\n      <td>1001</td>\n    </tr>\n    <tr>\n      <th>4</th>\n      <td>S\u00e3o Paulo</td>\n      <td>SP</td>\n      <td>1001901</td>\n      <td>S\u00e9</td>\n      <td>Pra\u00e7a da S\u00e9, 371</td>\n      <td>1001</td>\n    </tr>\n  </tbody>\n</table>\n</div>", 
                        "text/plain": "        City State      CEP Neighborhood                    Street  CEPred\n0  S\u00e3o Paulo    SP  1001000           S\u00e9  Pra\u00e7a da S\u00e9 - lado \u00edmpar    1001\n1  S\u00e3o Paulo    SP  1001001           S\u00e9    Pra\u00e7a da S\u00e9 - lado par    1001\n2  S\u00e3o Paulo    SP  1001010           S\u00e9    Rua Filipe de Oliveira    1001\n3  S\u00e3o Paulo    SP  1001900           S\u00e9         Pra\u00e7a da S\u00e9, 108     1001\n4  S\u00e3o Paulo    SP  1001901           S\u00e9         Pra\u00e7a da S\u00e9, 371     1001"
                    }, 
                    "execution_count": 24, 
                    "metadata": {}
                }
            ], 
            "execution_count": 24
        }
    ], 
    "metadata": {
        "kernelspec": {
            "display_name": "Python 3.5", 
            "name": "python3", 
            "language": "python"
        }, 
        "language_info": {
            "mimetype": "text/x-python", 
            "nbconvert_exporter": "python", 
            "version": "3.5.5", 
            "name": "python", 
            "pygments_lexer": "ipython3", 
            "file_extension": ".py", 
            "codemirror_mode": {
                "version": 3, 
                "name": "ipython"
            }
        }
    }, 
    "nbformat": 4
}